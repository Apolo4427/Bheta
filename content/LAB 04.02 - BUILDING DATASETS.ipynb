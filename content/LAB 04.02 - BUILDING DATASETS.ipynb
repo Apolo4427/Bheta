{
  "cells": [
    {
      "cell_type": "markdown",
      "metadata": {
        "id": "fKljdzmsPBVV"
      },
      "source": [
        "# LAB 04.02 - Buiding Datasets"
      ]
    },
    {
      "cell_type": "code",
      "execution_count": 103,
      "metadata": {
        "id": "Q-9uGRYZPBVZ",
        "outputId": "f0d2340e-1b7e-49b6-c36a-7026b1226ea3",
        "colab": {
          "base_uri": "https://localhost:8080/",
          "height": 35
        }
      },
      "outputs": [
        {
          "output_type": "display_data",
          "data": {
            "text/plain": [
              "<IPython.core.display.HTML object>"
            ],
            "text/html": [
              "\n",
              "<meta name=\"google-signin-client_id\"\n",
              "      content=\"461673936472-kdjosv61up3ac1ajeuq6qqu72upilmls.apps.googleusercontent.com\"/>\n",
              "<script src=\"https://apis.google.com/js/client:platform.js?onload=google_button_start\"></script>\n",
              "    "
            ]
          },
          "metadata": {}
        },
        {
          "output_type": "execute_result",
          "data": {
            "text/plain": [
              "'https://m5knaekxo6.execute-api.us-west-2.amazonaws.com/dev-v0001/rlxmooc'"
            ],
            "application/vnd.google.colaboratory.intrinsic+json": {
              "type": "string"
            }
          },
          "metadata": {},
          "execution_count": 103
        }
      ],
      "source": [
        "!wget --no-cache -O init.py -q https://raw.githubusercontent.com/rramosp/ai4eng.v1/main/content/init.py\n",
        "import init; init.init(force_download=False); init.get_weblink()\n",
        "init.endpoint"
      ]
    },
    {
      "cell_type": "code",
      "execution_count": 104,
      "metadata": {
        "id": "mqudNcwbPBVa",
        "outputId": "323048ea-0de9-4c51-9591-0cfe73437871",
        "colab": {
          "base_uri": "https://localhost:8080/",
          "height": 74,
          "referenced_widgets": [
            "a9b0446a3abe461aa73ade6e6964f14d",
            "970332b4d98b4747ba8f919479a524c1",
            "b5d62055099441a19479b92664da1748",
            "384a0d43bd8f40e8b413fdd1be5cf319",
            "ffb57cd7133141efa198e7c919262e66",
            "c8fafdb8410d493aae934aac8cb3aa61",
            "e227835d98634c209a774192857ca711",
            "c2765699e0ca4ab5810639244ece6a4f",
            "3b356d79418a42a085487aa4c61abe52",
            "7563d570486f4cc5882c06a37462b64c",
            "d6ac503a24a543abbe82910a0142c640",
            "fcd94f43c1ef4e078b82c2cd6a3950d6",
            "83795522aa3d4ff4b6a68acfbeaee8a5",
            "2deb07a24f6d4f5dafc7fda573808b14",
            "835a675c64574d869d2f0888cce308fc",
            "69e88f0d4d0445babce99b031f66a000",
            "8e9bf3660b154183a15a5c92929950b1",
            "5622bd0defc04994bb2a883dfa18ef67",
            "4327b1810e944475a48ef1ef3f23ccb5"
          ]
        }
      },
      "outputs": [
        {
          "output_type": "stream",
          "name": "stdout",
          "text": [
            "logging in as sergio.zapatar@udea.edu.co ... please wait\n",
            "using course session ai4eng.v1.udea.r2::2023.2\n",
            "success!! you are logged in\n"
          ]
        }
      ],
      "source": [
        "from local.lib.rlxmoocapi import submit, session\n",
        "session.LoginSequence(endpoint=init.endpoint, course_id=init.course_id, lab_id=\"L04.02\", varname=\"student\");"
      ]
    },
    {
      "cell_type": "markdown",
      "metadata": {
        "id": "5nSdlFpMPBVb"
      },
      "source": [
        "## Understand the ASHRAE Energy Prediction in Kaggle\n",
        "\n",
        "Follow this link: [https://www.kaggle.com/c/ashrae-energy-prediction](https://www.kaggle.com/c/ashrae-energy-prediction), register for the task and download the data.\n",
        "\n",
        "In particular, understand:\n",
        "\n",
        "- The machine learning task they define (what they want to predict)\n",
        "- How the data is provided\n",
        "- The structure and relation between the files `train.csv`, `weather_train.csv` and `building_metadata.csv`"
      ]
    },
    {
      "cell_type": "markdown",
      "metadata": {
        "id": "TqXrN-gVPBVb"
      },
      "source": [
        "## Task 1: Build a training dataset\n",
        "\n",
        "Execute the cell below and you will be given a **building_id** and a **date**. You will have to:\n",
        "\n",
        "1. Build a table containing one row per hour and the following columns **only for that building_id and date**:\n",
        "       'meter_reading', 'site_id', 'air_temperature', 'cloud_coverage',\n",
        "       'dew_temperature', 'precip_depth_1_hr', 'sea_level_pressure',\n",
        "       'wind_direction', 'wind_speed', 'square_feet', 'year_built'\n",
        "   Note that you will have to gather this information from the different csv sources.\n",
        "   \n",
        "1. use only measures with `meter`=0\n",
        "1. Fill any missing values with zero.\n",
        "1. Extract the column of the target variable and sum all values.\n",
        "1. Sum all the values of the rest of the columns.\n",
        "1. Fill in those values in the variables below.\n",
        "1. Submit your answer.\n",
        "\n",
        "Observe that, with this dataset, we could train a model to make predictions of the target variable, taking the rest of the variables as input.\n",
        "\n",
        "For instance, for building number 900, on 2016-02-01:\n",
        "- there are 24 records\n",
        "- the sum of all values of the target variable is 4941 (cropping decimals)\n",
        "- the sum of all values of the rest of the variables is 2705422 (cropping decimals)"
      ]
    },
    {
      "cell_type": "code",
      "execution_count": 105,
      "metadata": {
        "id": "EuKmdrBJPBVc",
        "outputId": "64d3405f-e455-41e9-b61a-2e82bd5f7eb0",
        "colab": {
          "base_uri": "https://localhost:8080/"
        }
      },
      "outputs": [
        {
          "output_type": "stream",
          "name": "stdout",
          "text": [
            "your building_id 947\n",
            "your date        2016-02-17\n"
          ]
        }
      ],
      "source": [
        "from IPython.display import Image\n",
        "from local.lib import labutils\n",
        "import numpy as np\n",
        "bid, date = labutils.biddate_for_student(student.user_id)\n",
        "print (\"your building_id\", bid)\n",
        "print (\"your date       \", date)"
      ]
    },
    {
      "cell_type": "code",
      "execution_count": 106,
      "metadata": {
        "id": "dZfUJ00qPBVc",
        "outputId": "0aeb3bfc-2b55-4acb-ad9b-e7a4e7a4dfb1",
        "colab": {
          "base_uri": "https://localhost:8080/"
        }
      },
      "outputs": [
        {
          "output_type": "stream",
          "name": "stdout",
          "text": [
            "Columnas de sample_submission.csv:\n",
            "Index(['row_id', 'meter_reading'], dtype='object')\n",
            "\n",
            "Columnas de train.csv:\n",
            "Index(['building_id', 'meter', 'timestamp', 'meter_reading'], dtype='object')\n",
            "\n",
            "Columnas de weather_train.csv:\n",
            "Index(['site_id', 'timestamp', 'air_temperature', 'cloud_coverage',\n",
            "       'dew_temperature', 'precip_depth_1_hr', 'sea_level_pressure',\n",
            "       'wind_direction', 'wind_speed'],\n",
            "      dtype='object')\n",
            "\n",
            "Columnas de building_metadata.csv:\n",
            "Index(['site_id', 'building_id', 'primary_use', 'square_feet', 'year_built',\n",
            "       'floor_count'],\n",
            "      dtype='object')\n"
          ]
        }
      ],
      "source": [
        "import pandas as pd\n",
        "\n",
        "# Cargar los datos en DataFrames\n",
        "sample_submission_data = pd.read_csv('sample_submission.csv')\n",
        "train_data = pd.read_csv('train.csv')\n",
        "weather_data = pd.read_csv('weather_train.csv')\n",
        "building_metadata_data = pd.read_csv('building_metadata.csv')\n",
        "\n",
        "# Mostrar las columnas de cada DataFrame\n",
        "print(\"Columnas de sample_submission.csv:\")\n",
        "print(sample_submission_data.columns)\n",
        "\n",
        "print(\"\\nColumnas de train.csv:\")\n",
        "print(train_data.columns)\n",
        "\n",
        "print(\"\\nColumnas de weather_train.csv:\")\n",
        "print(weather_data.columns)\n",
        "\n",
        "print(\"\\nColumnas de building_metadata.csv:\")\n",
        "print(building_metadata_data.columns)"
      ]
    },
    {
      "cell_type": "markdown",
      "metadata": {
        "id": "AXnmmqlIPBVd"
      },
      "source": [
        "#### provide your answer here, drop the decimals"
      ]
    },
    {
      "cell_type": "code",
      "execution_count": 109,
      "metadata": {
        "id": "kmTHqgl0PBVe",
        "outputId": "82da54ff-0ec4-4296-a9cc-2f9e52c88201",
        "colab": {
          "base_uri": "https://localhost:8080/"
        }
      },
      "outputs": [
        {
          "output_type": "stream",
          "name": "stdout",
          "text": [
            "sumX: 1604\n",
            "sumY: 4447019\n"
          ]
        },
        {
          "output_type": "stream",
          "name": "stderr",
          "text": [
            "<ipython-input-109-e59489aa0214>:41: FutureWarning: The default value of numeric_only in DataFrame.sum is deprecated. In a future version, it will default to False. In addition, specifying 'numeric_only=None' is deprecated. Select only valid columns or specify the value of numeric_only to silence this warning.\n",
            "  sumY = round(filtered_data.drop('meter_reading', axis=1).sum().sum())\n"
          ]
        }
      ],
      "source": [
        "import pandas as pd\n",
        "\n",
        "# Cargar los datos\n",
        "train_data = pd.read_csv('train.csv')\n",
        "weather_data = pd.read_csv('weather_train.csv')\n",
        "building_data = pd.read_csv('building_metadata.csv')\n",
        "\n",
        "# Definir building_id y date\n",
        "building_id = 947\n",
        "date = '2016-02-17'\n",
        "\n",
        "# Filtrar datos de train_data para el building_id, la fecha especificada y meter=0\n",
        "filtered_data = train_data[(train_data['building_id'] == building_id) & (train_data['timestamp'].str.contains(date)) & (train_data['meter'] == 0)]\n",
        "\n",
        "# Calcular la suma de 'meter_reading' (sumX)\n",
        "sumX = round(filtered_data['meter_reading'].sum())\n",
        "\n",
        "# Obtener información del edificio (site_id, square_feet, year_built)\n",
        "building_info = building_data[building_data['building_id'] == building_id]\n",
        "site_id = building_info['site_id'].values[0]\n",
        "square_feet = building_info['square_feet'].values[0]\n",
        "year_built = building_info['year_built'].values[0]\n",
        "\n",
        "# Filtrar datos meteorológicos para el sitio y fecha específicos\n",
        "weather_data_filtered = weather_data[(weather_data['site_id'] == site_id) & (weather_data['timestamp'].str.contains(date))]\n",
        "\n",
        "# Seleccionar columnas requeridas de los datos meteorológicos\n",
        "selected_columns = ['air_temperature', 'cloud_coverage', 'dew_temperature', 'precip_depth_1_hr', 'sea_level_pressure', 'wind_direction', 'wind_speed']\n",
        "weather_data_filtered = weather_data_filtered[selected_columns]\n",
        "\n",
        "# Combinar los datos\n",
        "filtered_data = pd.concat([filtered_data, weather_data_filtered], axis=1)\n",
        "filtered_data['site_id'] = site_id\n",
        "filtered_data['square_feet'] = square_feet\n",
        "filtered_data['year_built'] = year_built\n",
        "\n",
        "# Llenar valores faltantes con ceros\n",
        "filtered_data = filtered_data.fillna(0)\n",
        "\n",
        "# Calcular la suma de las columnas requeridas (sumY)\n",
        "sumY = round(filtered_data.drop('meter_reading', axis=1).sum().sum())\n",
        "\n",
        "sumX, sumY\n",
        "\n"
      ]
    },
    {
      "cell_type": "code",
      "execution_count": null,
      "metadata": {
        "id": "EASLmu8RPBVe"
      },
      "outputs": [],
      "source": []
    },
    {
      "cell_type": "code",
      "execution_count": null,
      "metadata": {
        "id": "fwBpGFqnPBVe"
      },
      "outputs": [],
      "source": []
    },
    {
      "cell_type": "markdown",
      "metadata": {
        "id": "YX92F6qXPBVe"
      },
      "source": [
        "**submit your answer**"
      ]
    },
    {
      "cell_type": "code",
      "execution_count": 110,
      "metadata": {
        "scrolled": true,
        "id": "dIJYcqJsPBVe",
        "outputId": "e6c9756b-424c-4e05-a407-856613da74d2",
        "colab": {
          "base_uri": "https://localhost:8080/",
          "height": 128
        }
      },
      "outputs": [
        {
          "output_type": "display_data",
          "data": {
            "text/plain": [
              "<IPython.core.display.HTML object>"
            ],
            "text/html": [
              "\n",
              "                    <b>task_01 submitted.</b> <b><font color=\"blue\">your grade is 0</font></b> \n",
              "                    <p/><pre>----- grader message -------</pre>checking for building_id=947 and date='2016-02-17'<br/><b>incorrect</b><pre>----------------------------</pre>\n",
              "                    <p/><p/>\n",
              "                    <div style=\"font-size:10px\"><b>SUBMISSION CODE</b> IYAaBibZKR8kEMj/5bX55rSwDmDFpWwxWj+A2Q4ayjbGdBJ5FnozJhISEbMyB2o+Fhy5Q96Zc47c6AljNSzXUyF5VvQkFXmyFUouTSRgy78IYZJzxFujGNJ0QuWmGxs/C13Ddfh/UOEM5pKj5EgUgv6j/s8lQYfMPWvZjHCbj3E=</div>\n",
              "                    "
            ]
          },
          "metadata": {}
        }
      ],
      "source": [
        "student.submit_task(globals(), task_id=\"task_01\");"
      ]
    },
    {
      "cell_type": "code",
      "execution_count": null,
      "metadata": {
        "id": "O3x3eJkDPBVf"
      },
      "outputs": [],
      "source": []
    },
    {
      "cell_type": "markdown",
      "metadata": {
        "id": "X3bLugXHPBVf"
      },
      "source": [
        "## Task 2. Time series missing data fix\n",
        "\n",
        "Observe how we can fill in missing data in a time series, by simply repeating the last seen value in the missing places."
      ]
    },
    {
      "cell_type": "code",
      "execution_count": null,
      "metadata": {
        "id": "eXeO7DqYPBVf",
        "outputId": "bec71920-6d34-40d3-d288-17654757208a"
      },
      "outputs": [
        {
          "data": {
            "image/png": "[encoded data removed]",
            "text/plain": [
              "<IPython.core.display.Image object>"
            ]
          },
          "execution_count": 40,
          "metadata": {},
          "output_type": "execute_result"
        }
      ],
      "source": [
        "Image(\"local/imgs/timeseries-ffill.png\")"
      ]
    },
    {
      "cell_type": "markdown",
      "metadata": {
        "id": "tnp_cMYdPBVg"
      },
      "source": [
        "Using the weather data from the ASHRAE Kaggle competition that you must have downloaded in the previous task you will have to:\n",
        "\n",
        "1. Extract the time series for the variable `cloud_coverage` for **site_id=3** and for the **date assigned to you** (execute the cell below). This time series will have 24 values (including missing values).\n",
        "1. Fill in the missing data by repeating the last seen value as in the example above\n",
        "1. Report the time series as a Pyton list in the variable `fixed_ts` below\n",
        "\n",
        "Again, use any tool of your choice to generate your result"
      ]
    },
    {
      "cell_type": "code",
      "execution_count": 111,
      "metadata": {
        "id": "vBEjxpVdPBVg",
        "outputId": "251a62ba-59b5-4587-a5ed-2806d524109a",
        "colab": {
          "base_uri": "https://localhost:8080/"
        }
      },
      "outputs": [
        {
          "output_type": "stream",
          "name": "stdout",
          "text": [
            "your date        2016-02-17\n"
          ]
        }
      ],
      "source": [
        "from local.lib import labutils\n",
        "_, date = labutils.biddate_for_student(student.user_id)\n",
        "print (\"your date       \", date)"
      ]
    },
    {
      "cell_type": "markdown",
      "metadata": {
        "id": "3jBvpRa-PBVg"
      },
      "source": [
        "#### fill in your fixed time series"
      ]
    },
    {
      "cell_type": "code",
      "execution_count": 115,
      "metadata": {
        "id": "NDEvcq7fPBVg",
        "outputId": "155337a7-b254-4abc-b2d2-8ea3c7c0e313",
        "colab": {
          "base_uri": "https://localhost:8080/"
        }
      },
      "outputs": [
        {
          "output_type": "stream",
          "name": "stdout",
          "text": [
            "[4.0, 4.0, 2.0, 6.0, 6.0, 6.0, 6.0, 4.0, 4.0, 6.0, 6.0, 6.0, 6.0, 6.0, 6.0, 8.0, 8.0, 8.0, 8.0, 8.0, 8.0, 6.0, 6.0, 4.0]\n"
          ]
        }
      ],
      "source": [
        "import numpy as np\n",
        "\n",
        "# Serie de tiempo original con valores faltantes\n",
        "time_series = [4.0, 4.0, 2.0, 6.0, np.nan, np.nan, 6.0, 4.0, 4.0, 6.0, np.nan, np.nan, 6.0, np.nan, np.nan, 8.0, np.nan, np.nan, 8.0, np.nan, np.nan, 6.0, np.nan, 4.0]\n",
        "\n",
        "# Llenar los valores faltantes con el último valor válido\n",
        "fixed_ts = []\n",
        "last_valid_value = None\n",
        "\n",
        "for value in time_series:\n",
        "    if not np.isnan(value):\n",
        "        last_valid_value = value\n",
        "    fixed_ts.append(last_valid_value)\n",
        "\n",
        "\n",
        "\n",
        "\n"
      ]
    },
    {
      "cell_type": "markdown",
      "metadata": {
        "id": "9tCbuNMRPBVg"
      },
      "source": [
        "**submit your answer**"
      ]
    },
    {
      "cell_type": "code",
      "execution_count": 116,
      "metadata": {
        "scrolled": false,
        "id": "fapJtIcMPBVg",
        "outputId": "90134536-50df-404c-fb5e-b892e99cca62",
        "colab": {
          "base_uri": "https://localhost:8080/",
          "height": 128
        }
      },
      "outputs": [
        {
          "output_type": "display_data",
          "data": {
            "text/plain": [
              "<IPython.core.display.HTML object>"
            ],
            "text/html": [
              "\n",
              "                    <b>task_02 submitted.</b> <b><font color=\"blue\">your grade is 5</font></b> \n",
              "                    <p/><pre>----- grader message -------</pre>checking for date='2016-02-17'<br/><b>correct</b><pre>----------------------------</pre>\n",
              "                    <p/><p/>\n",
              "                    <div style=\"font-size:10px\"><b>SUBMISSION CODE</b> TT6mtwy04JKXNbHaP67qUHojPxyM/sBGKQKJR5yNH2pJQyrGD/3z0KxBAGqsUo+V6Y8Wfx3c0KPZtlEB2JCGWZa8qDwf9J6EnUrVEQ6OQlPs555KTjAjgSNsJnZztKmk3i9j5woB4fOaMu+mp5pZ40Z34EJKoMl4KR9lBn/Fyog=</div>\n",
              "                    "
            ]
          },
          "metadata": {}
        }
      ],
      "source": [
        "student.submit_task(globals(), task_id=\"task_02\");"
      ]
    },
    {
      "cell_type": "code",
      "execution_count": null,
      "metadata": {
        "id": "kOu9vwz1PBVh"
      },
      "outputs": [],
      "source": []
    },
    {
      "cell_type": "markdown",
      "metadata": {
        "id": "lIIBcyGmPBVh"
      },
      "source": [
        "## Task 3. Build a time series predictive dataset\n",
        "\n",
        "You will now build a predictive dataset for a single time series. This dataset can later be used with predictive models. The machine learning task we will try to adress is the following:\n",
        "\n",
        "> **Given three consecutive points of a time series, we want a model to predict the next one.**\n",
        "\n",
        "Starting from a time series (a list of of $n$ numbers) you will have to build a dataset such as in the following example\n",
        "\n"
      ]
    },
    {
      "cell_type": "code",
      "execution_count": null,
      "metadata": {
        "id": "lqqoCD6fPBVh",
        "outputId": "ba0b9852-dcf2-4699-c1c6-66dc492c37a4"
      },
      "outputs": [
        {
          "name": "stdout",
          "output_type": "stream",
          "text": [
            "[44 45 42 38 47 45 46 44 47 52 53 48 46 42 42 34 30 27 24 24]\n"
          ]
        },
        {
          "data": {
            "image/png": "[encoded data removed]",
            "text/plain": [
              "<Figure size 720x144 with 1 Axes>"
            ]
          },
          "metadata": {
            "needs_background": "light"
          },
          "output_type": "display_data"
        }
      ],
      "source": [
        "\n",
        "import numpy as np\n",
        "import matplotlib.pyplot as plt\n",
        "%matplotlib inline\n",
        "\n",
        "ts = np.r_[44, 45, 42, 38, 47, 45, 46, 44, 47, 52, 53, 48, 46, 42, 42, 34, 30, 27, 24, 24]\n",
        "plt.figure(figsize=(10,2))\n",
        "plt.xticks(range(len(ts)), range(len(ts)))\n",
        "plt.grid();\n",
        "plt.plot(ts)\n",
        "print (ts)\n"
      ]
    },
    {
      "cell_type": "markdown",
      "metadata": {
        "id": "jsGd_UG5PBVh"
      },
      "source": [
        "dataset:\n",
        "\n",
        "    [[[44, 45, 42], 38],\n",
        "     [[45, 42, 38], 47],\n",
        "     [[42, 38, 47], 45],\n",
        "     [[38, 47, 45], 46],\n",
        "     [[47, 45, 46], 44],\n",
        "     [[45, 46, 44], 47],\n",
        "     [[46, 44, 47], 52],\n",
        "     [[44, 47, 52], 53],\n",
        "     [[47, 52, 53], 48],\n",
        "     [[52, 53, 48], 46],\n",
        "     [[53, 48, 46], 42],\n",
        "     [[48, 46, 42], 42],\n",
        "     [[46, 42, 42], 34],\n",
        "     [[42, 42, 34], 30],\n",
        "     [[42, 34, 30], 27],\n",
        "     [[34, 30, 27], 24],\n",
        "     [[30, 27, 24], 24]]"
      ]
    },
    {
      "cell_type": "markdown",
      "metadata": {
        "id": "RAVtFV12PBVh"
      },
      "source": [
        "observe that each line in the dataset represents one input-output pair, like a sliding window over the time series.\n",
        "\n",
        "We created two components:\n",
        "\n",
        "- a matrix $X$ of dimensions `(len(ts)-n,3)` gathering all inputs, in the case above with dimensions `(17,3)`\n",
        "- a vector $y$ of dimension `(len(ts)-n)` gathering each corresponding expected output, in the case above with dimensions `(17)`.\n",
        "\n",
        "In this task, you will have to:\n",
        "\n",
        "1. Take the time series you created in the previous task, where you fixed the missing values.\n",
        "1. Build $X$, $y$ such as above with $n=3$. If your time series has 24 data points, then X dimensions will be (21,3) and y dimensions will be (21)\n",
        "\n",
        "Again, use any tool of your choice to generate your result."
      ]
    },
    {
      "cell_type": "code",
      "execution_count": null,
      "metadata": {
        "id": "SgvUyBNvPBVh"
      },
      "outputs": [],
      "source": []
    },
    {
      "cell_type": "markdown",
      "metadata": {
        "id": "0nHF32yKPBVi"
      },
      "source": [
        "#### fill in your answer\n"
      ]
    },
    {
      "cell_type": "code",
      "execution_count": 117,
      "metadata": {
        "id": "r5FTXCVjPBVi",
        "outputId": "1cab1d1d-c795-4d31-f18f-79f5a326b298",
        "colab": {
          "base_uri": "https://localhost:8080/"
        }
      },
      "outputs": [
        {
          "output_type": "stream",
          "name": "stdout",
          "text": [
            "X = [[4.0, 4.0, 2.0], [4.0, 2.0, 6.0], [2.0, 6.0, 6.0], [6.0, 6.0, 6.0], [6.0, 6.0, 6.0], [6.0, 6.0, 4.0], [6.0, 4.0, 4.0], [4.0, 4.0, 6.0], [4.0, 6.0, 6.0], [6.0, 6.0, 6.0], [6.0, 6.0, 6.0], [6.0, 6.0, 6.0], [6.0, 6.0, 6.0], [6.0, 6.0, 8.0], [6.0, 8.0, 8.0], [8.0, 8.0, 8.0], [8.0, 8.0, 8.0], [8.0, 8.0, 8.0], [8.0, 8.0, 8.0], [8.0, 8.0, 6.0], [8.0, 6.0, 6.0]]\n",
            "y = [6.0, 6.0, 6.0, 6.0, 4.0, 4.0, 6.0, 6.0, 6.0, 6.0, 6.0, 6.0, 8.0, 8.0, 8.0, 8.0, 8.0, 8.0, 6.0, 6.0, 4.0]\n"
          ]
        }
      ],
      "source": [
        "# Serie de tiempo corregida (fixed_ts) de la tarea anterior\n",
        "fixed_ts = [4.0, 4.0, 2.0, 6.0, 6.0, 6.0, 6.0, 4.0, 4.0, 6.0, 6.0, 6.0, 6.0, 6.0, 6.0, 8.0, 8.0, 8.0, 8.0, 8.0, 8.0, 6.0, 6.0, 4.0]\n",
        "\n",
        "# Longitud de la ventana deslizante\n",
        "n = 3\n",
        "\n",
        "# Construir X e y\n",
        "X = []\n",
        "y = []\n",
        "\n",
        "for i in range(len(fixed_ts) - n):\n",
        "    X.append(fixed_ts[i:i + n])\n",
        "    y.append(fixed_ts[i + n])\n",
        "\n",
        "\n"
      ]
    },
    {
      "cell_type": "code",
      "execution_count": null,
      "metadata": {
        "id": "p3XVggOCPBVi"
      },
      "outputs": [],
      "source": []
    },
    {
      "cell_type": "code",
      "execution_count": null,
      "metadata": {
        "id": "lkqovNWGPBVi"
      },
      "outputs": [],
      "source": []
    },
    {
      "cell_type": "markdown",
      "metadata": {
        "id": "QZwy4mEcPBVi"
      },
      "source": [
        "**submit your answer**"
      ]
    },
    {
      "cell_type": "code",
      "execution_count": 118,
      "metadata": {
        "scrolled": false,
        "id": "p3KL3Kr0PBVi",
        "outputId": "ca1af4a5-047c-4034-f618-eb8faddbda24",
        "colab": {
          "base_uri": "https://localhost:8080/",
          "height": 128
        }
      },
      "outputs": [
        {
          "output_type": "display_data",
          "data": {
            "text/plain": [
              "<IPython.core.display.HTML object>"
            ],
            "text/html": [
              "\n",
              "                    <b>task_03 submitted.</b> <b><font color=\"blue\">your grade is 5</font></b> \n",
              "                    <p/><pre>----- grader message -------</pre>checking for date='2016-02-17'<br/><b>correct</b><pre>----------------------------</pre>\n",
              "                    <p/><p/>\n",
              "                    <div style=\"font-size:10px\"><b>SUBMISSION CODE</b> Jqx69kjLRSNKyiBy9F0iq/uR7SWKCiyQB53um/fGwZtC233ypYlUUj3LkcDSFAtIx7XFK/HKzBfHY6qS9c8i6aiyOlJki2kUR8I/LngE9pekJWBC/VBwQLlFDLh3AZ27lZJQZRLF6w/BWS5yPk4wReNLlmhOffxGqE/1NyLVA8M=</div>\n",
              "                    "
            ]
          },
          "metadata": {}
        }
      ],
      "source": [
        "student.submit_task(globals(), task_id=\"task_03\");"
      ]
    },
    {
      "cell_type": "code",
      "execution_count": null,
      "metadata": {
        "id": "RmleblPNPBVi"
      },
      "outputs": [],
      "source": []
    }
  ],
  "metadata": {
    "kernelspec": {
      "display_name": "Python 3 (ipykernel)",
      "language": "python",
      "name": "python3"
    },
    "language_info": {
      "codemirror_mode": {
        "name": "ipython",
        "version": 3
      },
      "file_extension": ".py",
      "mimetype": "text/x-python",
      "name": "python",
      "nbconvert_exporter": "python",
      "pygments_lexer": "ipython3",
      "version": "3.9.5"
    },
    "colab": {
      "provenance": []
    },
    "widgets": {
      "application/vnd.jupyter.widget-state+json": {
        "a9b0446a3abe461aa73ade6e6964f14d": {
          "model_module": "@jupyter-widgets/controls",
          "model_name": "HBoxModel",
          "model_module_version": "1.5.0",
          "state": {
            "_dom_classes": [],
            "_model_module": "@jupyter-widgets/controls",
            "_model_module_version": "1.5.0",
            "_model_name": "HBoxModel",
            "_view_count": null,
            "_view_module": "@jupyter-widgets/controls",
            "_view_module_version": "1.5.0",
            "_view_name": "HBoxView",
            "box_style": "",
            "children": [
              "IPY_MODEL_970332b4d98b4747ba8f919479a524c1",
              "IPY_MODEL_b5d62055099441a19479b92664da1748",
              "IPY_MODEL_384a0d43bd8f40e8b413fdd1be5cf319",
              "IPY_MODEL_ffb57cd7133141efa198e7c919262e66"
            ],
            "layout": "IPY_MODEL_c8fafdb8410d493aae934aac8cb3aa61"
          }
        },
        "970332b4d98b4747ba8f919479a524c1": {
          "model_module": "@jupyter-widgets/controls",
          "model_name": "VBoxModel",
          "model_module_version": "1.5.0",
          "state": {
            "_dom_classes": [],
            "_model_module": "@jupyter-widgets/controls",
            "_model_module_version": "1.5.0",
            "_model_name": "VBoxModel",
            "_view_count": null,
            "_view_module": "@jupyter-widgets/controls",
            "_view_module_version": "1.5.0",
            "_view_name": "VBoxView",
            "box_style": "",
            "children": [
              "IPY_MODEL_e227835d98634c209a774192857ca711",
              "IPY_MODEL_c2765699e0ca4ab5810639244ece6a4f"
            ],
            "layout": "IPY_MODEL_3b356d79418a42a085487aa4c61abe52"
          }
        },
        "b5d62055099441a19479b92664da1748": {
          "model_module": "@jupyter-widgets/controls",
          "model_name": "ButtonModel",
          "model_module_version": "1.5.0",
          "state": {
            "_dom_classes": [
              "login_button"
            ],
            "_model_module": "@jupyter-widgets/controls",
            "_model_module_version": "1.5.0",
            "_model_name": "ButtonModel",
            "_view_count": null,
            "_view_module": "@jupyter-widgets/controls",
            "_view_module_version": "1.5.0",
            "_view_name": "ButtonView",
            "button_style": "",
            "description": "Login with email",
            "disabled": false,
            "icon": "",
            "layout": "IPY_MODEL_7563d570486f4cc5882c06a37462b64c",
            "style": "IPY_MODEL_d6ac503a24a543abbe82910a0142c640",
            "tooltip": ""
          }
        },
        "384a0d43bd8f40e8b413fdd1be5cf319": {
          "model_module": "@jupyter-widgets/controls",
          "model_name": "HTMLModel",
          "model_module_version": "1.5.0",
          "state": {
            "_dom_classes": [],
            "_model_module": "@jupyter-widgets/controls",
            "_model_module_version": "1.5.0",
            "_model_name": "HTMLModel",
            "_view_count": null,
            "_view_module": "@jupyter-widgets/controls",
            "_view_module_version": "1.5.0",
            "_view_name": "HTMLView",
            "description": "",
            "description_tooltip": null,
            "layout": "IPY_MODEL_fcd94f43c1ef4e078b82c2cd6a3950d6",
            "placeholder": "​",
            "style": "IPY_MODEL_83795522aa3d4ff4b6a68acfbeaee8a5",
            "value": "<center><big>or</big></center>"
          }
        },
        "ffb57cd7133141efa198e7c919262e66": {
          "model_module": "@jupyter-widgets/controls",
          "model_name": "ButtonModel",
          "model_module_version": "1.5.0",
          "state": {
            "_dom_classes": [
              "google_button"
            ],
            "_model_module": "@jupyter-widgets/controls",
            "_model_module_version": "1.5.0",
            "_model_name": "ButtonModel",
            "_view_count": null,
            "_view_module": "@jupyter-widgets/controls",
            "_view_module_version": "1.5.0",
            "_view_name": "ButtonView",
            "button_style": "",
            "description": "Login with Google",
            "disabled": false,
            "icon": "",
            "layout": "IPY_MODEL_2deb07a24f6d4f5dafc7fda573808b14",
            "style": "IPY_MODEL_835a675c64574d869d2f0888cce308fc",
            "tooltip": ""
          }
        },
        "c8fafdb8410d493aae934aac8cb3aa61": {
          "model_module": "@jupyter-widgets/base",
          "model_name": "LayoutModel",
          "model_module_version": "1.2.0",
          "state": {
            "_model_module": "@jupyter-widgets/base",
            "_model_module_version": "1.2.0",
            "_model_name": "LayoutModel",
            "_view_count": null,
            "_view_module": "@jupyter-widgets/base",
            "_view_module_version": "1.2.0",
            "_view_name": "LayoutView",
            "align_content": null,
            "align_items": null,
            "align_self": null,
            "border": null,
            "bottom": null,
            "display": null,
            "flex": null,
            "flex_flow": null,
            "grid_area": null,
            "grid_auto_columns": null,
            "grid_auto_flow": null,
            "grid_auto_rows": null,
            "grid_column": null,
            "grid_gap": null,
            "grid_row": null,
            "grid_template_areas": null,
            "grid_template_columns": null,
            "grid_template_rows": null,
            "height": null,
            "justify_content": null,
            "justify_items": null,
            "left": null,
            "margin": null,
            "max_height": null,
            "max_width": null,
            "min_height": null,
            "min_width": null,
            "object_fit": null,
            "object_position": null,
            "order": null,
            "overflow": null,
            "overflow_x": null,
            "overflow_y": null,
            "padding": null,
            "right": null,
            "top": null,
            "visibility": null,
            "width": null
          }
        },
        "e227835d98634c209a774192857ca711": {
          "model_module": "@jupyter-widgets/controls",
          "model_name": "TextModel",
          "model_module_version": "1.5.0",
          "state": {
            "_dom_classes": [],
            "_model_module": "@jupyter-widgets/controls",
            "_model_module_version": "1.5.0",
            "_model_name": "TextModel",
            "_view_count": null,
            "_view_module": "@jupyter-widgets/controls",
            "_view_module_version": "1.5.0",
            "_view_name": "TextView",
            "continuous_update": true,
            "description": "email",
            "description_tooltip": null,
            "disabled": false,
            "layout": "IPY_MODEL_69e88f0d4d0445babce99b031f66a000",
            "placeholder": "​",
            "style": "IPY_MODEL_8e9bf3660b154183a15a5c92929950b1",
            "value": "sergio.zapatar@udea.edu.co"
          }
        },
        "c2765699e0ca4ab5810639244ece6a4f": {
          "model_module": "@jupyter-widgets/controls",
          "model_name": "PasswordModel",
          "model_module_version": "1.5.0",
          "state": {
            "_dom_classes": [],
            "_model_module": "@jupyter-widgets/controls",
            "_model_module_version": "1.5.0",
            "_model_name": "PasswordModel",
            "_view_count": null,
            "_view_module": "@jupyter-widgets/controls",
            "_view_module_version": "1.5.0",
            "_view_name": "PasswordView",
            "continuous_update": true,
            "description": "password",
            "description_tooltip": null,
            "disabled": false,
            "layout": "IPY_MODEL_5622bd0defc04994bb2a883dfa18ef67",
            "placeholder": "​",
            "style": "IPY_MODEL_4327b1810e944475a48ef1ef3f23ccb5",
            "value": "7TvndmamvT"
          }
        },
        "3b356d79418a42a085487aa4c61abe52": {
          "model_module": "@jupyter-widgets/base",
          "model_name": "LayoutModel",
          "model_module_version": "1.2.0",
          "state": {
            "_model_module": "@jupyter-widgets/base",
            "_model_module_version": "1.2.0",
            "_model_name": "LayoutModel",
            "_view_count": null,
            "_view_module": "@jupyter-widgets/base",
            "_view_module_version": "1.2.0",
            "_view_name": "LayoutView",
            "align_content": null,
            "align_items": null,
            "align_self": null,
            "border": null,
            "bottom": null,
            "display": null,
            "flex": null,
            "flex_flow": null,
            "grid_area": null,
            "grid_auto_columns": null,
            "grid_auto_flow": null,
            "grid_auto_rows": null,
            "grid_column": null,
            "grid_gap": null,
            "grid_row": null,
            "grid_template_areas": null,
            "grid_template_columns": null,
            "grid_template_rows": null,
            "height": null,
            "justify_content": null,
            "justify_items": null,
            "left": null,
            "margin": null,
            "max_height": null,
            "max_width": null,
            "min_height": null,
            "min_width": null,
            "object_fit": null,
            "object_position": null,
            "order": null,
            "overflow": null,
            "overflow_x": null,
            "overflow_y": null,
            "padding": null,
            "right": null,
            "top": null,
            "visibility": null,
            "width": null
          }
        },
        "7563d570486f4cc5882c06a37462b64c": {
          "model_module": "@jupyter-widgets/base",
          "model_name": "LayoutModel",
          "model_module_version": "1.2.0",
          "state": {
            "_model_module": "@jupyter-widgets/base",
            "_model_module_version": "1.2.0",
            "_model_name": "LayoutModel",
            "_view_count": null,
            "_view_module": "@jupyter-widgets/base",
            "_view_module_version": "1.2.0",
            "_view_name": "LayoutView",
            "align_content": null,
            "align_items": null,
            "align_self": null,
            "border": null,
            "bottom": null,
            "display": null,
            "flex": null,
            "flex_flow": null,
            "grid_area": null,
            "grid_auto_columns": null,
            "grid_auto_flow": null,
            "grid_auto_rows": null,
            "grid_column": null,
            "grid_gap": null,
            "grid_row": null,
            "grid_template_areas": null,
            "grid_template_columns": null,
            "grid_template_rows": null,
            "height": "53px",
            "justify_content": null,
            "justify_items": null,
            "left": null,
            "margin": null,
            "max_height": null,
            "max_width": null,
            "min_height": null,
            "min_width": null,
            "object_fit": null,
            "object_position": null,
            "order": null,
            "overflow": null,
            "overflow_x": null,
            "overflow_y": null,
            "padding": null,
            "right": null,
            "top": null,
            "visibility": null,
            "width": "150px"
          }
        },
        "d6ac503a24a543abbe82910a0142c640": {
          "model_module": "@jupyter-widgets/controls",
          "model_name": "ButtonStyleModel",
          "model_module_version": "1.5.0",
          "state": {
            "_model_module": "@jupyter-widgets/controls",
            "_model_module_version": "1.5.0",
            "_model_name": "ButtonStyleModel",
            "_view_count": null,
            "_view_module": "@jupyter-widgets/base",
            "_view_module_version": "1.2.0",
            "_view_name": "StyleView",
            "button_color": null,
            "font_weight": ""
          }
        },
        "fcd94f43c1ef4e078b82c2cd6a3950d6": {
          "model_module": "@jupyter-widgets/base",
          "model_name": "LayoutModel",
          "model_module_version": "1.2.0",
          "state": {
            "_model_module": "@jupyter-widgets/base",
            "_model_module_version": "1.2.0",
            "_model_name": "LayoutModel",
            "_view_count": null,
            "_view_module": "@jupyter-widgets/base",
            "_view_module_version": "1.2.0",
            "_view_name": "LayoutView",
            "align_content": null,
            "align_items": null,
            "align_self": null,
            "border": null,
            "bottom": null,
            "display": null,
            "flex": null,
            "flex_flow": null,
            "grid_area": null,
            "grid_auto_columns": null,
            "grid_auto_flow": null,
            "grid_auto_rows": null,
            "grid_column": null,
            "grid_gap": null,
            "grid_row": null,
            "grid_template_areas": null,
            "grid_template_columns": null,
            "grid_template_rows": null,
            "height": null,
            "justify_content": null,
            "justify_items": null,
            "left": null,
            "margin": null,
            "max_height": null,
            "max_width": null,
            "min_height": null,
            "min_width": null,
            "object_fit": null,
            "object_position": null,
            "order": null,
            "overflow": null,
            "overflow_x": null,
            "overflow_y": null,
            "padding": null,
            "right": null,
            "top": null,
            "visibility": null,
            "width": "100px"
          }
        },
        "83795522aa3d4ff4b6a68acfbeaee8a5": {
          "model_module": "@jupyter-widgets/controls",
          "model_name": "DescriptionStyleModel",
          "model_module_version": "1.5.0",
          "state": {
            "_model_module": "@jupyter-widgets/controls",
            "_model_module_version": "1.5.0",
            "_model_name": "DescriptionStyleModel",
            "_view_count": null,
            "_view_module": "@jupyter-widgets/base",
            "_view_module_version": "1.2.0",
            "_view_name": "StyleView",
            "description_width": ""
          }
        },
        "2deb07a24f6d4f5dafc7fda573808b14": {
          "model_module": "@jupyter-widgets/base",
          "model_name": "LayoutModel",
          "model_module_version": "1.2.0",
          "state": {
            "_model_module": "@jupyter-widgets/base",
            "_model_module_version": "1.2.0",
            "_model_name": "LayoutModel",
            "_view_count": null,
            "_view_module": "@jupyter-widgets/base",
            "_view_module_version": "1.2.0",
            "_view_name": "LayoutView",
            "align_content": null,
            "align_items": null,
            "align_self": null,
            "border": null,
            "bottom": null,
            "display": null,
            "flex": null,
            "flex_flow": null,
            "grid_area": null,
            "grid_auto_columns": null,
            "grid_auto_flow": null,
            "grid_auto_rows": null,
            "grid_column": null,
            "grid_gap": null,
            "grid_row": null,
            "grid_template_areas": null,
            "grid_template_columns": null,
            "grid_template_rows": null,
            "height": "53px",
            "justify_content": null,
            "justify_items": null,
            "left": null,
            "margin": null,
            "max_height": null,
            "max_width": null,
            "min_height": null,
            "min_width": null,
            "object_fit": null,
            "object_position": null,
            "order": null,
            "overflow": null,
            "overflow_x": null,
            "overflow_y": null,
            "padding": null,
            "right": null,
            "top": null,
            "visibility": null,
            "width": "200px"
          }
        },
        "835a675c64574d869d2f0888cce308fc": {
          "model_module": "@jupyter-widgets/controls",
          "model_name": "ButtonStyleModel",
          "model_module_version": "1.5.0",
          "state": {
            "_model_module": "@jupyter-widgets/controls",
            "_model_module_version": "1.5.0",
            "_model_name": "ButtonStyleModel",
            "_view_count": null,
            "_view_module": "@jupyter-widgets/base",
            "_view_module_version": "1.2.0",
            "_view_name": "StyleView",
            "button_color": null,
            "font_weight": ""
          }
        },
        "69e88f0d4d0445babce99b031f66a000": {
          "model_module": "@jupyter-widgets/base",
          "model_name": "LayoutModel",
          "model_module_version": "1.2.0",
          "state": {
            "_model_module": "@jupyter-widgets/base",
            "_model_module_version": "1.2.0",
            "_model_name": "LayoutModel",
            "_view_count": null,
            "_view_module": "@jupyter-widgets/base",
            "_view_module_version": "1.2.0",
            "_view_name": "LayoutView",
            "align_content": null,
            "align_items": null,
            "align_self": null,
            "border": null,
            "bottom": null,
            "display": null,
            "flex": null,
            "flex_flow": null,
            "grid_area": null,
            "grid_auto_columns": null,
            "grid_auto_flow": null,
            "grid_auto_rows": null,
            "grid_column": null,
            "grid_gap": null,
            "grid_row": null,
            "grid_template_areas": null,
            "grid_template_columns": null,
            "grid_template_rows": null,
            "height": "25px",
            "justify_content": null,
            "justify_items": null,
            "left": null,
            "margin": null,
            "max_height": null,
            "max_width": null,
            "min_height": null,
            "min_width": null,
            "object_fit": null,
            "object_position": null,
            "order": null,
            "overflow": null,
            "overflow_x": null,
            "overflow_y": null,
            "padding": null,
            "right": null,
            "top": null,
            "visibility": null,
            "width": "300px"
          }
        },
        "8e9bf3660b154183a15a5c92929950b1": {
          "model_module": "@jupyter-widgets/controls",
          "model_name": "DescriptionStyleModel",
          "model_module_version": "1.5.0",
          "state": {
            "_model_module": "@jupyter-widgets/controls",
            "_model_module_version": "1.5.0",
            "_model_name": "DescriptionStyleModel",
            "_view_count": null,
            "_view_module": "@jupyter-widgets/base",
            "_view_module_version": "1.2.0",
            "_view_name": "StyleView",
            "description_width": ""
          }
        },
        "5622bd0defc04994bb2a883dfa18ef67": {
          "model_module": "@jupyter-widgets/base",
          "model_name": "LayoutModel",
          "model_module_version": "1.2.0",
          "state": {
            "_model_module": "@jupyter-widgets/base",
            "_model_module_version": "1.2.0",
            "_model_name": "LayoutModel",
            "_view_count": null,
            "_view_module": "@jupyter-widgets/base",
            "_view_module_version": "1.2.0",
            "_view_name": "LayoutView",
            "align_content": null,
            "align_items": null,
            "align_self": null,
            "border": null,
            "bottom": null,
            "display": null,
            "flex": null,
            "flex_flow": null,
            "grid_area": null,
            "grid_auto_columns": null,
            "grid_auto_flow": null,
            "grid_auto_rows": null,
            "grid_column": null,
            "grid_gap": null,
            "grid_row": null,
            "grid_template_areas": null,
            "grid_template_columns": null,
            "grid_template_rows": null,
            "height": "24px",
            "justify_content": null,
            "justify_items": null,
            "left": null,
            "margin": null,
            "max_height": null,
            "max_width": null,
            "min_height": null,
            "min_width": null,
            "object_fit": null,
            "object_position": null,
            "order": null,
            "overflow": null,
            "overflow_x": null,
            "overflow_y": null,
            "padding": null,
            "right": null,
            "top": null,
            "visibility": null,
            "width": "300px"
          }
        },
        "4327b1810e944475a48ef1ef3f23ccb5": {
          "model_module": "@jupyter-widgets/controls",
          "model_name": "DescriptionStyleModel",
          "model_module_version": "1.5.0",
          "state": {
            "_model_module": "@jupyter-widgets/controls",
            "_model_module_version": "1.5.0",
            "_model_name": "DescriptionStyleModel",
            "_view_count": null,
            "_view_module": "@jupyter-widgets/base",
            "_view_module_version": "1.2.0",
            "_view_name": "StyleView",
            "description_width": ""
          }
        }
      }
    }
  },
  "nbformat": 4,
  "nbformat_minor": 0
}